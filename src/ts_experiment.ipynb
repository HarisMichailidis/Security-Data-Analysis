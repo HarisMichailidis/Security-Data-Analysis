{
 "cells": [
  {
   "cell_type": "code",
   "execution_count": 53,
   "metadata": {
    "collapsed": true
   },
   "outputs": [],
   "source": [
    "infile = '/home/haris/dev/projects/Security-Data-Analysis/connection_logs/conn_1000000.log'\n",
    "import pandas as pd\n",
    "columns = ['ts','uid','id_orig_h','id_orig_p','id_resp_h','id_resp_p','proto','service','duration','orig_bytes','resp_bytes','conn_state','local_orig','missed_bytes','history','orig_pkts','orig_ip_bytes','resp_pkts','resp_ip_bytes','tunnel_parents','threat','sample']\n",
    "conn_df = pd.read_csv(infile, sep=\"\\t\", header=None, names=columns)"
   ]
  },
  {
   "cell_type": "code",
   "execution_count": 60,
   "metadata": {
    "collapsed": true
   },
   "outputs": [],
   "source": [
    "orig_l = ['192.168.202.79']#,'192.168.202.83','192.168.202.101','192.168.202.76']"
   ]
  },
  {
   "cell_type": "code",
   "execution_count": 66,
   "metadata": {
    "collapsed": true
   },
   "outputs": [],
   "source": [
    "new_df = conn_df[(conn_df['id_orig_h'].isin(orig_l)) & (conn_df['orig_ip_bytes']<20000) & (conn_df['resp_ip_bytes']<20000)].sort_values('ts')"
   ]
  },
  {
   "cell_type": "code",
   "execution_count": 67,
   "metadata": {
    "collapsed": false
   },
   "outputs": [],
   "source": [
    "from datetime import datetime\n",
    "new_df['ts'] = [str(datetime.fromtimestamp(float(138540600+date+4*i))).split('.')[0] for i,date in enumerate(new_df['ts'].values,0)]"
   ]
  },
  {
   "cell_type": "code",
   "execution_count": 47,
   "metadata": {
    "collapsed": true
   },
   "outputs": [],
   "source": []
  },
  {
   "cell_type": "code",
   "execution_count": 51,
   "metadata": {
    "collapsed": false
   },
   "outputs": [],
   "source": []
  },
  {
   "cell_type": "code",
   "execution_count": 68,
   "metadata": {
    "collapsed": false,
    "scrolled": true
   },
   "outputs": [
    {
     "data": {
      "text/html": [
       "<div>\n",
       "<table border=\"1\" class=\"dataframe\">\n",
       "  <thead>\n",
       "    <tr style=\"text-align: right;\">\n",
       "      <th></th>\n",
       "      <th>ts</th>\n",
       "      <th>uid</th>\n",
       "      <th>id_orig_h</th>\n",
       "      <th>id_orig_p</th>\n",
       "      <th>id_resp_h</th>\n",
       "      <th>id_resp_p</th>\n",
       "      <th>proto</th>\n",
       "      <th>service</th>\n",
       "      <th>duration</th>\n",
       "      <th>orig_bytes</th>\n",
       "      <th>...</th>\n",
       "      <th>local_orig</th>\n",
       "      <th>missed_bytes</th>\n",
       "      <th>history</th>\n",
       "      <th>orig_pkts</th>\n",
       "      <th>orig_ip_bytes</th>\n",
       "      <th>resp_pkts</th>\n",
       "      <th>resp_ip_bytes</th>\n",
       "      <th>tunnel_parents</th>\n",
       "      <th>threat</th>\n",
       "      <th>sample</th>\n",
       "    </tr>\n",
       "  </thead>\n",
       "  <tbody>\n",
       "    <tr>\n",
       "      <th>0</th>\n",
       "      <td>2016-08-06 03:00:00</td>\n",
       "      <td>CCUIP21wTjqkj8ZqX5</td>\n",
       "      <td>192.168.202.79</td>\n",
       "      <td>50463</td>\n",
       "      <td>192.168.229.251</td>\n",
       "      <td>80</td>\n",
       "      <td>tcp</td>\n",
       "      <td>-</td>\n",
       "      <td>-</td>\n",
       "      <td>-</td>\n",
       "      <td>...</td>\n",
       "      <td>-</td>\n",
       "      <td>0</td>\n",
       "      <td>Fa</td>\n",
       "      <td>1</td>\n",
       "      <td>52</td>\n",
       "      <td>1</td>\n",
       "      <td>52</td>\n",
       "      <td>(empty)</td>\n",
       "      <td>NaN</td>\n",
       "      <td>NaN</td>\n",
       "    </tr>\n",
       "    <tr>\n",
       "      <th>1</th>\n",
       "      <td>2016-08-06 03:00:04</td>\n",
       "      <td>Csssjd3tX0yOTPDpng</td>\n",
       "      <td>192.168.202.79</td>\n",
       "      <td>46117</td>\n",
       "      <td>192.168.229.254</td>\n",
       "      <td>443</td>\n",
       "      <td>tcp</td>\n",
       "      <td>-</td>\n",
       "      <td>-</td>\n",
       "      <td>-</td>\n",
       "      <td>...</td>\n",
       "      <td>-</td>\n",
       "      <td>0</td>\n",
       "      <td>dDafFr</td>\n",
       "      <td>3</td>\n",
       "      <td>382</td>\n",
       "      <td>9</td>\n",
       "      <td>994</td>\n",
       "      <td>(empty)</td>\n",
       "      <td>NaN</td>\n",
       "      <td>NaN</td>\n",
       "    </tr>\n",
       "    <tr>\n",
       "      <th>2</th>\n",
       "      <td>2016-08-06 03:00:08</td>\n",
       "      <td>CHEt7z3AzG4gyCNgci</td>\n",
       "      <td>192.168.202.79</td>\n",
       "      <td>50465</td>\n",
       "      <td>192.168.229.251</td>\n",
       "      <td>80</td>\n",
       "      <td>tcp</td>\n",
       "      <td>http</td>\n",
       "      <td>0.010000</td>\n",
       "      <td>166</td>\n",
       "      <td>...</td>\n",
       "      <td>-</td>\n",
       "      <td>0</td>\n",
       "      <td>ShADfFa</td>\n",
       "      <td>4</td>\n",
       "      <td>382</td>\n",
       "      <td>3</td>\n",
       "      <td>382</td>\n",
       "      <td>(empty)</td>\n",
       "      <td>NaN</td>\n",
       "      <td>NaN</td>\n",
       "    </tr>\n",
       "  </tbody>\n",
       "</table>\n",
       "<p>3 rows × 22 columns</p>\n",
       "</div>"
      ],
      "text/plain": [
       "                    ts                 uid       id_orig_h  id_orig_p  \\\n",
       "0  2016-08-06 03:00:00  CCUIP21wTjqkj8ZqX5  192.168.202.79      50463   \n",
       "1  2016-08-06 03:00:04  Csssjd3tX0yOTPDpng  192.168.202.79      46117   \n",
       "2  2016-08-06 03:00:08  CHEt7z3AzG4gyCNgci  192.168.202.79      50465   \n",
       "\n",
       "         id_resp_h  id_resp_p proto service  duration orig_bytes  ...    \\\n",
       "0  192.168.229.251         80   tcp       -         -          -  ...     \n",
       "1  192.168.229.254        443   tcp       -         -          -  ...     \n",
       "2  192.168.229.251         80   tcp    http  0.010000        166  ...     \n",
       "\n",
       "  local_orig missed_bytes  history  orig_pkts orig_ip_bytes  resp_pkts  \\\n",
       "0          -            0       Fa          1            52          1   \n",
       "1          -            0   dDafFr          3           382          9   \n",
       "2          -            0  ShADfFa          4           382          3   \n",
       "\n",
       "   resp_ip_bytes  tunnel_parents  threat sample  \n",
       "0             52         (empty)     NaN    NaN  \n",
       "1            994         (empty)     NaN    NaN  \n",
       "2            382         (empty)     NaN    NaN  \n",
       "\n",
       "[3 rows x 22 columns]"
      ]
     },
     "execution_count": 68,
     "metadata": {},
     "output_type": "execute_result"
    }
   ],
   "source": [
    "new_df.head(3)"
   ]
  },
  {
   "cell_type": "code",
   "execution_count": 69,
   "metadata": {
    "collapsed": false,
    "scrolled": true
   },
   "outputs": [
    {
     "data": {
      "text/html": [
       "<div>\n",
       "<table border=\"1\" class=\"dataframe\">\n",
       "  <thead>\n",
       "    <tr style=\"text-align: right;\">\n",
       "      <th></th>\n",
       "      <th>ts</th>\n",
       "      <th>uid</th>\n",
       "      <th>id_orig_h</th>\n",
       "      <th>id_orig_p</th>\n",
       "      <th>id_resp_h</th>\n",
       "      <th>id_resp_p</th>\n",
       "      <th>proto</th>\n",
       "      <th>service</th>\n",
       "      <th>duration</th>\n",
       "      <th>orig_bytes</th>\n",
       "      <th>...</th>\n",
       "      <th>local_orig</th>\n",
       "      <th>missed_bytes</th>\n",
       "      <th>history</th>\n",
       "      <th>orig_pkts</th>\n",
       "      <th>orig_ip_bytes</th>\n",
       "      <th>resp_pkts</th>\n",
       "      <th>resp_ip_bytes</th>\n",
       "      <th>tunnel_parents</th>\n",
       "      <th>threat</th>\n",
       "      <th>sample</th>\n",
       "    </tr>\n",
       "  </thead>\n",
       "  <tbody>\n",
       "    <tr>\n",
       "      <th>903300</th>\n",
       "      <td>2016-08-31 02:23:40</td>\n",
       "      <td>CfNmjZ1b2RcbkLpXr1</td>\n",
       "      <td>192.168.202.79</td>\n",
       "      <td>47159</td>\n",
       "      <td>192.168.207.4</td>\n",
       "      <td>53</td>\n",
       "      <td>udp</td>\n",
       "      <td>dns</td>\n",
       "      <td>-</td>\n",
       "      <td>-</td>\n",
       "      <td>...</td>\n",
       "      <td>-</td>\n",
       "      <td>0</td>\n",
       "      <td>Dd</td>\n",
       "      <td>1</td>\n",
       "      <td>58</td>\n",
       "      <td>1</td>\n",
       "      <td>115</td>\n",
       "      <td>(empty)</td>\n",
       "      <td>NaN</td>\n",
       "      <td>NaN</td>\n",
       "    </tr>\n",
       "    <tr>\n",
       "      <th>903287</th>\n",
       "      <td>2016-08-31 02:23:44</td>\n",
       "      <td>C2eOf711EWSiw1zlV3</td>\n",
       "      <td>192.168.202.79</td>\n",
       "      <td>43383</td>\n",
       "      <td>192.168.207.4</td>\n",
       "      <td>53</td>\n",
       "      <td>udp</td>\n",
       "      <td>dns</td>\n",
       "      <td>-</td>\n",
       "      <td>-</td>\n",
       "      <td>...</td>\n",
       "      <td>-</td>\n",
       "      <td>0</td>\n",
       "      <td>Dd</td>\n",
       "      <td>1</td>\n",
       "      <td>54</td>\n",
       "      <td>1</td>\n",
       "      <td>111</td>\n",
       "      <td>(empty)</td>\n",
       "      <td>NaN</td>\n",
       "      <td>NaN</td>\n",
       "    </tr>\n",
       "    <tr>\n",
       "      <th>903301</th>\n",
       "      <td>2016-08-31 02:23:48</td>\n",
       "      <td>CppETz489js7BG0jck</td>\n",
       "      <td>192.168.202.79</td>\n",
       "      <td>39770</td>\n",
       "      <td>192.168.207.4</td>\n",
       "      <td>53</td>\n",
       "      <td>udp</td>\n",
       "      <td>dns</td>\n",
       "      <td>-</td>\n",
       "      <td>-</td>\n",
       "      <td>...</td>\n",
       "      <td>-</td>\n",
       "      <td>0</td>\n",
       "      <td>Dd</td>\n",
       "      <td>1</td>\n",
       "      <td>59</td>\n",
       "      <td>1</td>\n",
       "      <td>116</td>\n",
       "      <td>(empty)</td>\n",
       "      <td>NaN</td>\n",
       "      <td>NaN</td>\n",
       "    </tr>\n",
       "  </tbody>\n",
       "</table>\n",
       "<p>3 rows × 22 columns</p>\n",
       "</div>"
      ],
      "text/plain": [
       "                         ts                 uid       id_orig_h  id_orig_p  \\\n",
       "903300  2016-08-31 02:23:40  CfNmjZ1b2RcbkLpXr1  192.168.202.79      47159   \n",
       "903287  2016-08-31 02:23:44  C2eOf711EWSiw1zlV3  192.168.202.79      43383   \n",
       "903301  2016-08-31 02:23:48  CppETz489js7BG0jck  192.168.202.79      39770   \n",
       "\n",
       "            id_resp_h  id_resp_p proto service duration orig_bytes  ...    \\\n",
       "903300  192.168.207.4         53   udp     dns        -          -  ...     \n",
       "903287  192.168.207.4         53   udp     dns        -          -  ...     \n",
       "903301  192.168.207.4         53   udp     dns        -          -  ...     \n",
       "\n",
       "       local_orig missed_bytes history  orig_pkts orig_ip_bytes  resp_pkts  \\\n",
       "903300          -            0      Dd          1            58          1   \n",
       "903287          -            0      Dd          1            54          1   \n",
       "903301          -            0      Dd          1            59          1   \n",
       "\n",
       "        resp_ip_bytes  tunnel_parents  threat sample  \n",
       "903300            115         (empty)     NaN    NaN  \n",
       "903287            111         (empty)     NaN    NaN  \n",
       "903301            116         (empty)     NaN    NaN  \n",
       "\n",
       "[3 rows x 22 columns]"
      ]
     },
     "execution_count": 69,
     "metadata": {},
     "output_type": "execute_result"
    }
   ],
   "source": [
    "new_df.tail(3)"
   ]
  },
  {
   "cell_type": "code",
   "execution_count": 70,
   "metadata": {
    "collapsed": true
   },
   "outputs": [],
   "source": [
    "new_df.to_csv(header=True,path_or_buf='conn_106_orig.csv')"
   ]
  },
  {
   "cell_type": "code",
   "execution_count": 25,
   "metadata": {
    "collapsed": false
   },
   "outputs": [
    {
     "data": {
      "text/plain": [
       "138540600"
      ]
     },
     "execution_count": 25,
     "metadata": {},
     "output_type": "execute_result"
    }
   ],
   "source": [
    "1470441600-1331901000\n"
   ]
  },
  {
   "cell_type": "code",
   "execution_count": 71,
   "metadata": {
    "collapsed": false,
    "scrolled": true
   },
   "outputs": [
    {
     "data": {
      "text/plain": [
       "ts                539042\n",
       "uid               539042\n",
       "id_orig_h         539042\n",
       "id_orig_p         539042\n",
       "id_resp_h         539042\n",
       "id_resp_p         539042\n",
       "proto             539042\n",
       "service           539042\n",
       "duration          539042\n",
       "orig_bytes        539042\n",
       "resp_bytes        539042\n",
       "conn_state        539042\n",
       "local_orig        539042\n",
       "missed_bytes      539042\n",
       "history           539042\n",
       "orig_pkts         539042\n",
       "orig_ip_bytes     539042\n",
       "resp_pkts         539042\n",
       "resp_ip_bytes     539042\n",
       "tunnel_parents    539042\n",
       "threat                 0\n",
       "sample                 0\n",
       "dtype: int64"
      ]
     },
     "execution_count": 71,
     "metadata": {},
     "output_type": "execute_result"
    }
   ],
   "source": [
    "new_df.count()"
   ]
  },
  {
   "cell_type": "code",
   "execution_count": 16,
   "metadata": {
    "collapsed": false
   },
   "outputs": [
    {
     "data": {
      "text/plain": [
       "ts                975546\n",
       "uid               975546\n",
       "id_orig_h         975546\n",
       "id_orig_p         975546\n",
       "id_resp_h         975546\n",
       "id_resp_p         975546\n",
       "proto             975546\n",
       "service           975546\n",
       "duration          975546\n",
       "orig_bytes        975546\n",
       "resp_bytes        975546\n",
       "conn_state        975546\n",
       "local_orig        975546\n",
       "missed_bytes      975546\n",
       "history           975546\n",
       "orig_pkts         975546\n",
       "orig_ip_bytes     975546\n",
       "resp_pkts         975546\n",
       "resp_ip_bytes     975546\n",
       "tunnel_parents    975546\n",
       "threat                 0\n",
       "sample                 0\n",
       "dtype: int64"
      ]
     },
     "execution_count": 16,
     "metadata": {},
     "output_type": "execute_result"
    }
   ],
   "source": [
    "new_df[(new_df['orig_ip_bytes']<20000) & (new_df['resp_ip_bytes']<20000)].count()"
   ]
  }
 ],
 "metadata": {
  "kernelspec": {
   "display_name": "Python 2",
   "language": "python",
   "name": "python2"
  },
  "language_info": {
   "codemirror_mode": {
    "name": "ipython",
    "version": 2
   },
   "file_extension": ".py",
   "mimetype": "text/x-python",
   "name": "python",
   "nbconvert_exporter": "python",
   "pygments_lexer": "ipython2",
   "version": "2.7.10"
  }
 },
 "nbformat": 4,
 "nbformat_minor": 2
}
