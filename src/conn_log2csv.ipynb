{
 "cells": [
  {
   "cell_type": "code",
   "execution_count": 1,
   "metadata": {
    "collapsed": true
   },
   "outputs": [],
   "source": [
    "import random\n",
    "import os\n",
    "data_path = os.path.abspath('../connection_logs/')\n",
    "outfile = os.path.join(data_path,'conn_sample.log')\n",
    "logfile = os.path.join(data_path,'conn.log')"
   ]
  },
  {
   "cell_type": "code",
   "execution_count": 2,
   "metadata": {
    "collapsed": true
   },
   "outputs": [],
   "source": [
    "data_path = os.path.abspath('../connection_logs/')\n",
    "outfile = os.path.join(data_path,'conn_cp.log')"
   ]
  },
  {
   "cell_type": "code",
   "execution_count": 3,
   "metadata": {
    "collapsed": true
   },
   "outputs": [],
   "source": [
    "import pandas as pd\n",
    "conn_df = pd.read_csv(outfile, sep=\"\\t\", header=None, names=['ts','uid','id_orig_h','id_orig_p','id_resp_h','id_resp_p','proto','service','duration','orig_bytes','resp_bytes','conn_state','local_orig','missed_bytes','history','orig_pkts','orig_ip_bytes','resp_pkts','resp_ip_bytes','tunnel_parents','threat','sample'])"
   ]
  },
  {
   "cell_type": "code",
   "execution_count": 4,
   "metadata": {
    "collapsed": false
   },
   "outputs": [
    {
     "data": {
      "text/html": [
       "<div>\n",
       "<table border=\"1\" class=\"dataframe\">\n",
       "  <thead>\n",
       "    <tr style=\"text-align: right;\">\n",
       "      <th></th>\n",
       "      <th>ts</th>\n",
       "      <th>uid</th>\n",
       "      <th>id_orig_h</th>\n",
       "      <th>id_orig_p</th>\n",
       "      <th>id_resp_h</th>\n",
       "      <th>id_resp_p</th>\n",
       "      <th>proto</th>\n",
       "      <th>service</th>\n",
       "      <th>duration</th>\n",
       "      <th>orig_bytes</th>\n",
       "      <th>...</th>\n",
       "      <th>local_orig</th>\n",
       "      <th>missed_bytes</th>\n",
       "      <th>history</th>\n",
       "      <th>orig_pkts</th>\n",
       "      <th>orig_ip_bytes</th>\n",
       "      <th>resp_pkts</th>\n",
       "      <th>resp_ip_bytes</th>\n",
       "      <th>tunnel_parents</th>\n",
       "      <th>threat</th>\n",
       "      <th>sample</th>\n",
       "    </tr>\n",
       "  </thead>\n",
       "  <tbody>\n",
       "    <tr>\n",
       "      <th>0</th>\n",
       "      <td>1.331901e+09</td>\n",
       "      <td>CCUIP21wTjqkj8ZqX5</td>\n",
       "      <td>192.168.202.79</td>\n",
       "      <td>50463</td>\n",
       "      <td>192.168.229.251</td>\n",
       "      <td>80</td>\n",
       "      <td>tcp</td>\n",
       "      <td>-</td>\n",
       "      <td>-</td>\n",
       "      <td>-</td>\n",
       "      <td>...</td>\n",
       "      <td>-</td>\n",
       "      <td>0</td>\n",
       "      <td>Fa</td>\n",
       "      <td>1</td>\n",
       "      <td>52</td>\n",
       "      <td>1</td>\n",
       "      <td>52</td>\n",
       "      <td>(empty)</td>\n",
       "      <td>NaN</td>\n",
       "      <td>NaN</td>\n",
       "    </tr>\n",
       "    <tr>\n",
       "      <th>1</th>\n",
       "      <td>1.331901e+09</td>\n",
       "      <td>Csssjd3tX0yOTPDpng</td>\n",
       "      <td>192.168.202.79</td>\n",
       "      <td>46117</td>\n",
       "      <td>192.168.229.254</td>\n",
       "      <td>443</td>\n",
       "      <td>tcp</td>\n",
       "      <td>-</td>\n",
       "      <td>-</td>\n",
       "      <td>-</td>\n",
       "      <td>...</td>\n",
       "      <td>-</td>\n",
       "      <td>0</td>\n",
       "      <td>dDafFr</td>\n",
       "      <td>3</td>\n",
       "      <td>382</td>\n",
       "      <td>9</td>\n",
       "      <td>994</td>\n",
       "      <td>(empty)</td>\n",
       "      <td>NaN</td>\n",
       "      <td>NaN</td>\n",
       "    </tr>\n",
       "    <tr>\n",
       "      <th>2</th>\n",
       "      <td>1.331901e+09</td>\n",
       "      <td>CHEt7z3AzG4gyCNgci</td>\n",
       "      <td>192.168.202.79</td>\n",
       "      <td>50465</td>\n",
       "      <td>192.168.229.251</td>\n",
       "      <td>80</td>\n",
       "      <td>tcp</td>\n",
       "      <td>http</td>\n",
       "      <td>0.010000</td>\n",
       "      <td>166</td>\n",
       "      <td>...</td>\n",
       "      <td>-</td>\n",
       "      <td>0</td>\n",
       "      <td>ShADfFa</td>\n",
       "      <td>4</td>\n",
       "      <td>382</td>\n",
       "      <td>3</td>\n",
       "      <td>382</td>\n",
       "      <td>(empty)</td>\n",
       "      <td>NaN</td>\n",
       "      <td>NaN</td>\n",
       "    </tr>\n",
       "    <tr>\n",
       "      <th>3</th>\n",
       "      <td>1.331901e+09</td>\n",
       "      <td>CKnDAp2ohlvN6rpiXl</td>\n",
       "      <td>192.168.202.79</td>\n",
       "      <td>50467</td>\n",
       "      <td>192.168.229.251</td>\n",
       "      <td>80</td>\n",
       "      <td>tcp</td>\n",
       "      <td>http</td>\n",
       "      <td>0.010000</td>\n",
       "      <td>166</td>\n",
       "      <td>...</td>\n",
       "      <td>-</td>\n",
       "      <td>0</td>\n",
       "      <td>ShADfFa</td>\n",
       "      <td>4</td>\n",
       "      <td>382</td>\n",
       "      <td>3</td>\n",
       "      <td>382</td>\n",
       "      <td>(empty)</td>\n",
       "      <td>NaN</td>\n",
       "      <td>NaN</td>\n",
       "    </tr>\n",
       "    <tr>\n",
       "      <th>4</th>\n",
       "      <td>1.331901e+09</td>\n",
       "      <td>CGUBcoXKxBE8gTNl</td>\n",
       "      <td>192.168.202.79</td>\n",
       "      <td>46119</td>\n",
       "      <td>192.168.229.254</td>\n",
       "      <td>443</td>\n",
       "      <td>tcp</td>\n",
       "      <td>ssl</td>\n",
       "      <td>0.020000</td>\n",
       "      <td>544</td>\n",
       "      <td>...</td>\n",
       "      <td>-</td>\n",
       "      <td>0</td>\n",
       "      <td>ShADadfFr</td>\n",
       "      <td>8</td>\n",
       "      <td>968</td>\n",
       "      <td>13</td>\n",
       "      <td>1744</td>\n",
       "      <td>(empty)</td>\n",
       "      <td>NaN</td>\n",
       "      <td>NaN</td>\n",
       "    </tr>\n",
       "  </tbody>\n",
       "</table>\n",
       "<p>5 rows × 22 columns</p>\n",
       "</div>"
      ],
      "text/plain": [
       "             ts                 uid       id_orig_h  id_orig_p  \\\n",
       "0  1.331901e+09  CCUIP21wTjqkj8ZqX5  192.168.202.79      50463   \n",
       "1  1.331901e+09  Csssjd3tX0yOTPDpng  192.168.202.79      46117   \n",
       "2  1.331901e+09  CHEt7z3AzG4gyCNgci  192.168.202.79      50465   \n",
       "3  1.331901e+09  CKnDAp2ohlvN6rpiXl  192.168.202.79      50467   \n",
       "4  1.331901e+09    CGUBcoXKxBE8gTNl  192.168.202.79      46119   \n",
       "\n",
       "         id_resp_h  id_resp_p proto service  duration orig_bytes  ...    \\\n",
       "0  192.168.229.251         80   tcp       -         -          -  ...     \n",
       "1  192.168.229.254        443   tcp       -         -          -  ...     \n",
       "2  192.168.229.251         80   tcp    http  0.010000        166  ...     \n",
       "3  192.168.229.251         80   tcp    http  0.010000        166  ...     \n",
       "4  192.168.229.254        443   tcp     ssl  0.020000        544  ...     \n",
       "\n",
       "  local_orig missed_bytes    history  orig_pkts orig_ip_bytes  resp_pkts  \\\n",
       "0          -            0         Fa          1            52          1   \n",
       "1          -            0     dDafFr          3           382          9   \n",
       "2          -            0    ShADfFa          4           382          3   \n",
       "3          -            0    ShADfFa          4           382          3   \n",
       "4          -            0  ShADadfFr          8           968         13   \n",
       "\n",
       "   resp_ip_bytes  tunnel_parents  threat sample  \n",
       "0             52         (empty)     NaN    NaN  \n",
       "1            994         (empty)     NaN    NaN  \n",
       "2            382         (empty)     NaN    NaN  \n",
       "3            382         (empty)     NaN    NaN  \n",
       "4           1744         (empty)     NaN    NaN  \n",
       "\n",
       "[5 rows x 22 columns]"
      ]
     },
     "execution_count": 4,
     "metadata": {},
     "output_type": "execute_result"
    }
   ],
   "source": [
    "conn_df.head()"
   ]
  },
  {
   "cell_type": "code",
   "execution_count": 5,
   "metadata": {
    "collapsed": true
   },
   "outputs": [],
   "source": [
    "from datetime import datetime\n",
    "conn_df['ts'] = [str(datetime.fromtimestamp(float(date))).split('.')[0] for date in conn_df['ts'].values]"
   ]
  },
  {
   "cell_type": "code",
   "execution_count": 6,
   "metadata": {
    "collapsed": true
   },
   "outputs": [],
   "source": [
    "conn_df.to_csv(header=True,path_or_buf='conn_cp.csv')"
   ]
  }
 ],
 "metadata": {
  "kernelspec": {
   "display_name": "Python 2",
   "language": "python",
   "name": "python2"
  },
  "language_info": {
   "codemirror_mode": {
    "name": "ipython",
    "version": 2.0
   },
   "file_extension": ".py",
   "mimetype": "text/x-python",
   "name": "python",
   "nbconvert_exporter": "python",
   "pygments_lexer": "ipython2",
   "version": "2.7.12"
  }
 },
 "nbformat": 4,
 "nbformat_minor": 0
}