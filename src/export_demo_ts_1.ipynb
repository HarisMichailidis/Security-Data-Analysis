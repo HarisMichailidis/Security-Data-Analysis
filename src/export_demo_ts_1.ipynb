{
 "cells": [
  {
   "cell_type": "code",
   "execution_count": 13,
   "metadata": {
    "collapsed": false
   },
   "outputs": [],
   "source": [
    "start_time = 1470441600"
   ]
  },
  {
   "cell_type": "code",
   "execution_count": 14,
   "metadata": {
    "collapsed": false
   },
   "outputs": [
    {
     "name": "stdout",
     "output_type": "stream",
     "text": [
      "2016-08-06 03:00:00\n"
     ]
    }
   ],
   "source": [
    "from datetime import datetime\n",
    "print datetime.fromtimestamp(float(1470441600))"
   ]
  },
  {
   "cell_type": "code",
   "execution_count": 15,
   "metadata": {
    "collapsed": false
   },
   "outputs": [
    {
     "name": "stdout",
     "output_type": "stream",
     "text": [
      "1440\n"
     ]
    }
   ],
   "source": [
    "from random import randint\n",
    "\n",
    "days=60\n",
    "hours_to_run = 1*1*24*days\n",
    "print hours_to_run\n",
    "\n",
    "import numpy as np\n",
    "dstr2 = np.random.normal(6800, 300, hours_to_run)\n",
    "dstr1 = np.random.normal(5600, 100, hours_to_run)\n",
    "\n",
    "\n",
    "TS = []\n",
    "for m in range(hours_to_run):\n",
    "    TS.append([datetime.fromtimestamp(float(1468441600+m*60*60)),'83.156.72.212','resp_ip',abs(int(dstr1[m])),abs(int(dstr2[m]))])"
   ]
  },
  {
   "cell_type": "code",
   "execution_count": 16,
   "metadata": {
    "collapsed": false
   },
   "outputs": [
    {
     "name": "stdout",
     "output_type": "stream",
     "text": [
      "1440\n",
      "[datetime.datetime(2016, 7, 13, 23, 26, 40), '83.156.72.212', 'resp_ip', 5793, 7171]\n",
      "[datetime.datetime(2016, 9, 11, 22, 26, 40), '83.156.72.212', 'resp_ip', 5453, 6844]\n"
     ]
    }
   ],
   "source": [
    "print len(TS)\n",
    "print TS[0]\n",
    "print TS[len(TS)-1]"
   ]
  },
  {
   "cell_type": "code",
   "execution_count": 17,
   "metadata": {
    "collapsed": false
   },
   "outputs": [
    {
     "data": {
      "text/plain": [
       "datetime.datetime(2016, 8, 22, 23, 26, 40)"
      ]
     },
     "execution_count": 17,
     "metadata": {},
     "output_type": "execute_result"
    }
   ],
   "source": [
    "d=40\n",
    "datetime.fromtimestamp(float(1468441600+d*24*60*60))"
   ]
  },
  {
   "cell_type": "code",
   "execution_count": 18,
   "metadata": {
    "collapsed": false
   },
   "outputs": [],
   "source": [
    "# add stuff \n",
    "d=27\n",
    "TS.append([datetime.fromtimestamp(float(1468441600+d*24*60*60)),'83.156.72.212','192.168.202.79',8224,5500])\n",
    "d=40\n",
    "TS.append([datetime.fromtimestamp(float(1468441600+d*24*60*60)),'83.156.72.212','192.168.202.79',5500,8224])\n",
    "d=44\n",
    "TS.append([datetime.fromtimestamp(float(1468441600+d*24*60*60)),'83.156.72.212','192.168.202.79',5500,8224])\n",
    "d=50\n",
    "TS.append([datetime.fromtimestamp(float(1468441600+d*24*60*60)),'83.156.72.212','192.168.202.79',5500,8224])\n",
    "# TS.append([datetime.fromtimestamp(float(1468441600+d*24*60*60+120)),'83.156.72.212','resp_ip',1123,1500])"
   ]
  },
  {
   "cell_type": "code",
   "execution_count": 21,
   "metadata": {
    "collapsed": false
   },
   "outputs": [],
   "source": [
    "import pandas as pd\n",
    "columns = ['datetime','orig_ip','resp_ip','send_bytes','resv_bytes']\n",
    "\n",
    "ts_df = pd.DataFrame(TS,columns=columns)\n",
    "ts_df = ts_df.sort_values(by='datetime')\n",
    "# %matplotlib notebook\n",
    "# ts_df.plot()\n",
    "\n",
    "ts_df.to_csv(header=True,path_or_buf='log_ts_1.csv')"
   ]
  }
 ],
 "metadata": {
  "kernelspec": {
   "display_name": "Python 2",
   "language": "python",
   "name": "python2"
  },
  "language_info": {
   "codemirror_mode": {
    "name": "ipython",
    "version": 2
   },
   "file_extension": ".py",
   "mimetype": "text/x-python",
   "name": "python",
   "nbconvert_exporter": "python",
   "pygments_lexer": "ipython2",
   "version": "2.7.10"
  }
 },
 "nbformat": 4,
 "nbformat_minor": 2
}
